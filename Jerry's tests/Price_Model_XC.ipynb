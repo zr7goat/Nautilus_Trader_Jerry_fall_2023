{
 "cells": [
  {
   "cell_type": "code",
   "execution_count": null,
   "metadata": {
    "collapsed": true
   },
   "outputs": [],
   "source": [
    "from datetime import date,datetime\n",
    "import time\n",
    "import pandas as pd\n",
    "import numpy as np\n",
    "import matplotlib.pyplot as plt\n",
    "import ast\n",
    "%matplotlib inline\n",
    "\n",
    "\"\"\"\n",
    "数据源：YGGUSDT, BINANCE, 08072023\n",
    "文章来源：https://www.fmz.com/bbs-topic/10198\n",
    "作者：小草\n",
    "\n",
    "订单流数据和十档的深度数据，来自于实盘收集，更新频率都是100ms。实盘的只包含买一卖一盘口数据是实时更新的，为了简洁，暂时不用。考虑到数据太大，只保留了10万行深度数据，并且把逐档行情也独立为单独的列。\n",
    "\"\"\""
   ]
  },
  {
   "cell_type": "code",
   "execution_count": null,
   "outputs": [],
   "source": [
    "tick_size = 0.0001\n",
    "trades = pd.read_csv('YGGUSDT_aggTrade.csv',names=['type','event_time', 'agg_trade_id','symbol', 'price', 'quantity', 'first_trade_id', 'last_trade_id',\n",
    "       'transact_time', 'is_buyer_maker'])\n",
    "# 导入订单流/归集成交数据(大概率是作者自己录制的，频率是100ms)"
   ],
   "metadata": {
    "collapsed": false
   }
  },
  {
   "cell_type": "code",
   "execution_count": null,
   "outputs": [],
   "source": [],
   "metadata": {
    "collapsed": false
   }
  }
 ],
 "metadata": {
  "kernelspec": {
   "display_name": "Python 3",
   "language": "python",
   "name": "python3"
  },
  "language_info": {
   "codemirror_mode": {
    "name": "ipython",
    "version": 2
   },
   "file_extension": ".py",
   "mimetype": "text/x-python",
   "name": "python",
   "nbconvert_exporter": "python",
   "pygments_lexer": "ipython2",
   "version": "2.7.6"
  }
 },
 "nbformat": 4,
 "nbformat_minor": 0
}
